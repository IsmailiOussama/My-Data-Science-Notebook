{
 "cells": [
  {
   "cell_type": "markdown",
   "id": "5fbb6acb-f570-4717-a607-a68c58d1083c",
   "metadata": {},
   "source": [
    "# Exercise 2"
   ]
  },
  {
   "cell_type": "markdown",
   "id": "c3720e04-0c43-4049-a9f6-673d79372283",
   "metadata": {},
   "source": [
    "# Data Science Tools and Ecosystem"
   ]
  },
  {
   "cell_type": "markdown",
   "id": "489ba5b6-06a6-4969-b24f-844143358740",
   "metadata": {},
   "source": [
    "# Exercise 3"
   ]
  },
  {
   "cell_type": "markdown",
   "id": "29198240-d86a-41f1-826d-6d2a1ffc4a9d",
   "metadata": {},
   "source": [
    "In this notebook, Data Science Tools and Ecosystem are summarized.\r\n",
    "\n"
   ]
  },
  {
   "cell_type": "markdown",
   "id": "1a0b3375-5363-4231-a1d6-790447b470c5",
   "metadata": {},
   "source": [
    "# Exercise 4"
   ]
  },
  {
   "cell_type": "markdown",
   "id": "87a1881d-87f8-4d8c-ab5c-d7e87e7227ef",
   "metadata": {},
   "source": [
    "Some of the popular languages that Data Scientists use are:\r\n",
    "\r\n",
    "1. Python\r\n",
    "2. R\r\n",
    "3. Julia\r\n"
   ]
  },
  {
   "cell_type": "markdown",
   "id": "0fd04eb4-a054-44ee-9548-61137da868ba",
   "metadata": {},
   "source": [
    "# Exercise 5"
   ]
  },
  {
   "cell_type": "markdown",
   "id": "914dca13-5273-4cc5-8fc4-0322dd3426d4",
   "metadata": {},
   "source": [
    "Some of the commonly used libraries used by Data Scientists include:\r\n",
    "\r\n",
    "1. NumPy\r\n",
    "2. Pandas\r\n",
    "3. Matplotlib\r\n"
   ]
  },
  {
   "cell_type": "markdown",
   "id": "87585dd7-37d2-453e-b652-f1ce443915c9",
   "metadata": {},
   "source": [
    "# Exercise 6"
   ]
  },
  {
   "cell_type": "markdown",
   "id": "8c6b709c-8841-4ef5-aa6a-7afe6c57cc1c",
   "metadata": {},
   "source": [
    "| Data Science Tools |\r\n",
    "|--------------------|\r\n",
    "| Jupyter            |\r\n",
    "| RStudio            |\r\n",
    "| VS Code            |\r\n",
    "    |\r\n"
   ]
  },
  {
   "cell_type": "markdown",
   "id": "eeebd8f5-6af2-440a-80ae-def5116862f5",
   "metadata": {},
   "source": [
    "# Exercise 7"
   ]
  },
  {
   "cell_type": "markdown",
   "id": "167d67b9-2eb0-40b1-a65e-e29087cc9c14",
   "metadata": {},
   "source": [
    "### Below are a few examples of evaluating arithmetic expressions in Python.\r\n"
   ]
  },
  {
   "cell_type": "markdown",
   "id": "19835e24-a3b6-43b5-ae38-28fc4913b440",
   "metadata": {},
   "source": [
    "# Exercise 8"
   ]
  },
  {
   "cell_type": "code",
   "execution_count": 5,
   "id": "03fbaf9d-123e-4fcd-82fc-094ab60d30a7",
   "metadata": {},
   "outputs": [
    {
     "data": {
      "text/plain": [
       "17"
      ]
     },
     "execution_count": 5,
     "metadata": {},
     "output_type": "execute_result"
    }
   ],
   "source": [
    "# This is a simple arithmetic expression to multiply and then add integers.\n",
    "result = (3 * 4) + 5\n",
    "result\n"
   ]
  },
  {
   "cell_type": "markdown",
   "id": "c18f8c11-8256-4b46-b1b2-73439c3cc575",
   "metadata": {},
   "source": [
    "# Exercise 9"
   ]
  },
  {
   "cell_type": "code",
   "execution_count": 6,
   "id": "adb6f2ab-1b09-4514-a9b2-581b30e37165",
   "metadata": {},
   "outputs": [
    {
     "data": {
      "text/plain": [
       "3.3333333333333335"
      ]
     },
     "execution_count": 6,
     "metadata": {},
     "output_type": "execute_result"
    }
   ],
   "source": [
    "# This will convert 200 minutes to hours by dividing by 60.\n",
    "minutes = 200\n",
    "hours = minutes / 60\n",
    "hours\n"
   ]
  },
  {
   "cell_type": "markdown",
   "id": "3cf4b693-6037-43cf-9896-f89feaab76bf",
   "metadata": {},
   "source": [
    "# Exercise 10"
   ]
  },
  {
   "cell_type": "markdown",
   "id": "76f17ad7-3283-42fb-bd9a-677eceab12e4",
   "metadata": {},
   "source": [
    "**Objectives:**\r\n",
    "- List popular languages for Data Science\r\n",
    "- Identify commonly used libraries in Data Science\r\n",
    "- Explore open-source tools for Data Science\r\n"
   ]
  },
  {
   "cell_type": "markdown",
   "id": "b6730c0a-5559-4853-a90b-823dfdee6eda",
   "metadata": {},
   "source": [
    "# Exercise 11"
   ]
  },
  {
   "cell_type": "markdown",
   "id": "fc208443-a33f-4f75-91ce-a4f5327f91e1",
   "metadata": {},
   "source": [
    "## Author\r",
    "**ISMAILI OUSSAMA**\r\n"
   ]
  },
  {
   "cell_type": "markdown",
   "id": "8847a46c-2c8b-4a6a-b53e-ba67fdedf069",
   "metadata": {},
   "source": [
    "# Exercise 12"
   ]
  },
  {
   "cell_type": "code",
   "execution_count": null,
   "id": "24a6b363-bdad-4d0f-8f90-898a14ba99fe",
   "metadata": {},
   "outputs": [],
   "source": []
  }
 ],
 "metadata": {
  "kernelspec": {
   "display_name": "Python 3 (ipykernel)",
   "language": "python",
   "name": "python3"
  },
  "language_info": {
   "codemirror_mode": {
    "name": "ipython",
    "version": 3
   },
   "file_extension": ".py",
   "mimetype": "text/x-python",
   "name": "python",
   "nbconvert_exporter": "python",
   "pygments_lexer": "ipython3",
   "version": "3.11.5"
  }
 },
 "nbformat": 4,
 "nbformat_minor": 5
}
